{
 "cells": [
  {
   "cell_type": "raw",
   "id": "a6f3744e",
   "metadata": {},
   "source": [
    "Q1:\n",
    "Ans:    \n",
    "*(EXPRESSION)\n",
    "'hello'(VALUES)\n",
    "-87.8 (VALUES)\n",
    "-(EXPRESSION)\n",
    "/(EXPRESSION)\n",
    "+(EXPRESSION)\n",
    "6 (VALUES)\n",
    "\n",
    "Q2:\n",
    "Ans:(i)Variables are those quantities whose values are to changed during an execution of programme and string is a type of variable which stores data enclosed in double quotes. \n",
    "(ii)Variable is a store of information and string is a type of information store in variable.\n",
    "\n",
    "Q3:\n",
    "Ans:Three different data types are as below:\n",
    "1. integers 2. character 3. string 4. floating point\n",
    "\n",
    "Q4:\n",
    "Ans:Expressions are representations of value. An expression in Python is a combination of operators and operands.The expression in Python produces some value or result after being interpreted by the Python interpreter.\n",
    "\n",
    "Q5:\n",
    "Ans:Expressions can be assigned or used as operands, while statements can only be declared.The execution of a statement changes the state of the variable. The expression evaluation does not result in any state change.\n",
    "\n",
    "Q6:\n",
    "Ans:bacon = 22\n",
    "bacon + 1=23\n",
    "\n",
    "Q7:\n",
    "Ans:'spam' + 'spamspam'\n",
    "    'spamspamspam'\n",
    "   'spam'*3\n",
    "    'spamspamspam'\n",
    "Q8:\n",
    "Ans: eggs a valid variable name because in form of string it can store any value   while 100 is invalid because its a integer data type and has only fixed values so its not a valid variable.\n",
    "\n",
    "Q9:\n",
    "Ans:three functions can be used to get the integer, floating-point number, or string\n",
    "version of a values are \n",
    "integer: int\n",
    "floating point number : float\n",
    "string: str\n",
    "\n",
    "Q10:\n",
    "Ans:'I have eaten'+ 99 + 'burritos'\n",
    "Error is 99 is not enclosed in single quotes as strings are always operate with strings not with integers so we can fix it by using 99 enclosed in single quotes\n",
    "\n",
    "'I have eaten'+ '99' + 'burritos'\n",
    "\n",
    "\n",
    "\n",
    "\n",
    "\n"
   ]
  }
 ],
 "metadata": {
  "kernelspec": {
   "display_name": "Python 3 (ipykernel)",
   "language": "python",
   "name": "python3"
  },
  "language_info": {
   "codemirror_mode": {
    "name": "ipython",
    "version": 3
   },
   "file_extension": ".py",
   "mimetype": "text/x-python",
   "name": "python",
   "nbconvert_exporter": "python",
   "pygments_lexer": "ipython3",
   "version": "3.10.9"
  }
 },
 "nbformat": 4,
 "nbformat_minor": 5
}
